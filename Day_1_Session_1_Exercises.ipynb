{
  "nbformat": 4,
  "nbformat_minor": 0,
  "metadata": {
    "colab": {
      "name": "Day 1 Session 1 Exercises",
      "provenance": [],
      "authorship_tag": "ABX9TyPJTqVMYvUYm6wiJHWnoXrZ",
      "include_colab_link": true
    },
    "kernelspec": {
      "name": "python3",
      "display_name": "Python 3"
    }
  },
  "cells": [
    {
      "cell_type": "markdown",
      "metadata": {
        "id": "view-in-github",
        "colab_type": "text"
      },
      "source": [
        "<a href=\"https://colab.research.google.com/github/mdasif9900/Online-Workshop-on-How-to-develop-Pythonic-coding-rather-than-Python-coding/blob/master/Day_1_Session_1_Exercises.ipynb\" target=\"_parent\"><img src=\"https://colab.research.google.com/assets/colab-badge.svg\" alt=\"Open In Colab\"/></a>"
      ]
    },
    {
      "cell_type": "markdown",
      "metadata": {
        "id": "80-LmA-AP3NO",
        "colab_type": "text"
      },
      "source": [
        "#1.Find the compound interest for the given p,n,r"
      ]
    },
    {
      "cell_type": "code",
      "metadata": {
        "id": "jBUwmUkVQDEE",
        "colab_type": "code",
        "colab": {
          "base_uri": "https://localhost:8080/",
          "height": 34
        },
        "outputId": "31e07772-d7bb-4578-f300-75d720273903"
      },
      "source": [
        "def compound_interest(principle, rate, n): \n",
        "\n",
        "  \n",
        "\n",
        "    # Calculates compound interest  \n",
        "\n",
        "    Amount = principle * (pow((1 +(n * rate) / 100), n)) \n",
        "\n",
        "    CI = Amount - principle \n",
        "\n",
        "    print(\"Compound interest is\", CI) \n",
        "\n",
        "  \n",
        "# Driver Code  \n",
        "\n",
        "compound_interest(10000, 10.25, 5)"
      ],
      "execution_count": 1,
      "outputs": [
        {
          "output_type": "stream",
          "text": [
            "Compound interest is 69154.73816223144\n"
          ],
          "name": "stdout"
        }
      ]
    },
    {
      "cell_type": "markdown",
      "metadata": {
        "id": "4bdFyWBXQLF7",
        "colab_type": "text"
      },
      "source": [
        "#2.Convert centegrade to farenheit "
      ]
    },
    {
      "cell_type": "code",
      "metadata": {
        "id": "97jZn7vaQP87",
        "colab_type": "code",
        "colab": {
          "base_uri": "https://localhost:8080/",
          "height": 50
        },
        "outputId": "449cc9e4-ebbd-492e-82ec-38e9f2806215"
      },
      "source": [
        "celsius = float(input(\"Enter temperature in celsius: \"))\n",
        "fahrenheit = (celsius * 9/5) + 32\n",
        "print('%.2f Celsius is: %0.2f Fahrenheit' %(celsius, fahrenheit))"
      ],
      "execution_count": 2,
      "outputs": [
        {
          "output_type": "stream",
          "text": [
            "Enter temperature in celsius: 10\n",
            "10.00 Celsius is: 50.00 Fahrenheit\n"
          ],
          "name": "stdout"
        }
      ]
    },
    {
      "cell_type": "markdown",
      "metadata": {
        "id": "wDUTYK5uQWkH",
        "colab_type": "text"
      },
      "source": [
        "#3.Find the greater of two nos "
      ]
    },
    {
      "cell_type": "code",
      "metadata": {
        "id": "-9JHT2HHQeL2",
        "colab_type": "code",
        "colab": {
          "base_uri": "https://localhost:8080/",
          "height": 67
        },
        "outputId": "868493a8-6560-4434-ae1e-7e82974ddd9b"
      },
      "source": [
        "a=input(\"Enter the first number\")\n",
        "b=input(\"Enter the second number\")\n",
        "if a>b:\n",
        " print(\"The greater number is\",a)\n",
        "else:\n",
        " print(\"The greater number is\",b)"
      ],
      "execution_count": 3,
      "outputs": [
        {
          "output_type": "stream",
          "text": [
            "Enter the first number10\n",
            "Enter the second number20\n",
            "The greater number is 20\n"
          ],
          "name": "stdout"
        }
      ]
    },
    {
      "cell_type": "markdown",
      "metadata": {
        "id": "-f8n8Ry9QrF2",
        "colab_type": "text"
      },
      "source": [
        "#4.Write a program for finding surface areas of cylinder and cone "
      ]
    },
    {
      "cell_type": "code",
      "metadata": {
        "id": "cDIWqrypQuIV",
        "colab_type": "code",
        "colab": {
          "base_uri": "https://localhost:8080/",
          "height": 50
        },
        "outputId": "f78c5fa9-c882-4555-c0c3-d4d35807f997"
      },
      "source": [
        "import math \n",
        "\n",
        "pi = math.pi \n",
        "# Function To Calculate Surface Area of Cone \n",
        "\n",
        "def surfacearea(r, s): \n",
        "\n",
        "    return pi * r * s + pi * r * r \n",
        "\n",
        "# Function To Calculate Total Surface Area \n",
        "# of Cylinder \n",
        "\n",
        "def totalsurfacearea(r, h): \n",
        "\n",
        "    tsurf_ar = (2 * pi * r * h) + (2 * pi * r * r) \n",
        "\n",
        "    return tsurf_ar \n",
        "  \n",
        "# Driver Code \n",
        "\n",
        "radius = float(5) \n",
        "\n",
        "height = float(12) \n",
        "\n",
        "slat_height = float(13) \n",
        "\n",
        "r = 5\n",
        "\n",
        "h = 8\n",
        "print( \"Surface Area Of Cone : \", surfacearea(radius, slat_height) )\n",
        "\n",
        "print(\"Total  Surface Area  Of Cylinder =  \",totalsurfacearea(r,h))"
      ],
      "execution_count": 4,
      "outputs": [
        {
          "output_type": "stream",
          "text": [
            "Surface Area Of Cone :  282.7433388230814\n",
            "Total  Surface Area  Of Cylinder =   408.4070449666731\n"
          ],
          "name": "stdout"
        }
      ]
    },
    {
      "cell_type": "markdown",
      "metadata": {
        "id": "ChRDkYylQ2gv",
        "colab_type": "text"
      },
      "source": [
        "#5.\tFind the greatest of four nos ( using ‘and’ operator)   using function."
      ]
    },
    {
      "cell_type": "code",
      "metadata": {
        "id": "PkXdPFcAQ7lE",
        "colab_type": "code",
        "colab": {
          "base_uri": "https://localhost:8080/",
          "height": 34
        },
        "outputId": "06b423b4-4346-49b6-dbcd-9de2114b7eaf"
      },
      "source": [
        "n1 = 4\n",
        "\n",
        "n2 = 15\n",
        "\n",
        "n3 = 20\n",
        "\n",
        "n4 = 30\n",
        "\n",
        "mx = (n1 if (n1 > n2 and n1 > n2 and n1 > n4)  \n",
        "\n",
        "         else (n2 if (n2 > n3 and n3 > n4)  \n",
        "\n",
        "         else (n3 if n3 > n4 else n4)))  \n",
        "\n",
        "print(\"Largest number among \" + str(n1) + \", \" + \n",
        "\n",
        "            str(n2) + \", \" + str(n3) + \" and \" + \n",
        "\n",
        "            str(n4) + \" is \" + str(mx))"
      ],
      "execution_count": 5,
      "outputs": [
        {
          "output_type": "stream",
          "text": [
            "Largest number among 4, 15, 20 and 30 is 30\n"
          ],
          "name": "stdout"
        }
      ]
    },
    {
      "cell_type": "markdown",
      "metadata": {
        "id": "62EuJzWmRI1U",
        "colab_type": "text"
      },
      "source": [
        "#6.\tWrite a  menu program to perform the operations ( ODDorEven, Factorial, ODDNoUptoN, PrimeUptoN ) using functions for two nos with  menu choice."
      ]
    },
    {
      "cell_type": "code",
      "metadata": {
        "id": "njVdCG4bT7dT",
        "colab_type": "code",
        "colab": {
          "base_uri": "https://localhost:8080/",
          "height": 1000
        },
        "outputId": "4cd96ba2-e4bb-4bbf-e74c-b7418ef8a9a1"
      },
      "source": [
        "def odd_even(num):\n",
        "  if num%2==0:\n",
        "    print(\"Result:The number is even\")\n",
        "  else:\n",
        "    print(\"Result:The number is odd\")\n",
        "\n",
        "def fact(num):\n",
        "  fact=1\n",
        "  if num==0:\n",
        "    print(\"Result:Factorial of 0 is 1\")\n",
        "  else:\n",
        "    for i in range(1,num+1):\n",
        "      fact=fact*i\n",
        "    print(\"Result:The factorial of\",num,\"is\",fact)\n",
        "\n",
        "def odd(num):\n",
        "  for i in range(0,num+1):\n",
        "    if (i%2)!=0:\n",
        "      print(i)\n",
        "\n",
        "def prime(num):\n",
        "  for num in range(1, num+1):\n",
        "    if num > 1:\n",
        "       for i in range(2, num):\n",
        "           if (num % i) == 0:\n",
        "               break\n",
        "       else:\n",
        "           print(num)\n",
        "\n",
        "loop=1\n",
        "choice=0\n",
        "while loop == 1:\n",
        "  print (\" \")\n",
        "  print (\"your options are:\")\n",
        "  print (\" \")\n",
        "  print(\"1) Find odd or even number\")\n",
        "  print(\"2) find factorial\")\n",
        "  print(\"3) find all odd number\")\n",
        "  print(\"4) find prime number\")\n",
        "  print(\"5) Exit\")\n",
        "    \n",
        "  print(\" \")\n",
        "  try:\n",
        "    choice = int(input(\"Choose your option: \"))\n",
        "  except:\n",
        "    print('please enter a valid number for option')\n",
        "    print(\" \")\n",
        "    print(\" \")\n",
        "\n",
        "  if choice==1:\n",
        "    number=int(input(\"enter the number:\"))\n",
        "    odd_even(number)\n",
        "  elif choice==2:\n",
        "    number=int(input(\"enter the number:\"))\n",
        "    fact(number)\n",
        "  elif choice==3:\n",
        "    number=int(input(\"enter the number:\"))\n",
        "    odd(number)\n",
        "  elif choice==4:\n",
        "    number=int(input(\"enter the number:\"))\n",
        "    prime(number)\n",
        "  elif choice == 5:\n",
        "    loop = 0\n",
        "  elif choice == 5:\n",
        "        loop = 0\n",
        "\n",
        "  else:\n",
        "    print(\"please choice a valid option from 1 to 5\")\n",
        "    choice=0"
      ],
      "execution_count": 9,
      "outputs": [
        {
          "output_type": "stream",
          "text": [
            " \n",
            "your options are:\n",
            " \n",
            "1) Find odd or even number\n",
            "2) find factorial\n",
            "3) find all odd number\n",
            "4) find prime number\n",
            "5) Exit\n",
            " \n",
            "Choose your option: 1\n",
            "enter the number:59\n",
            "Result:The number is odd\n",
            " \n",
            "your options are:\n",
            " \n",
            "1) Find odd or even number\n",
            "2) find factorial\n",
            "3) find all odd number\n",
            "4) find prime number\n",
            "5) Exit\n",
            " \n",
            "Choose your option: 2\n",
            "enter the number:5\n",
            "Result:The factorial of 5 is 120\n",
            " \n",
            "your options are:\n",
            " \n",
            "1) Find odd or even number\n",
            "2) find factorial\n",
            "3) find all odd number\n",
            "4) find prime number\n",
            "5) Exit\n",
            " \n",
            "Choose your option: 3\n",
            "enter the number:15\n",
            "1\n",
            "3\n",
            "5\n",
            "7\n",
            "9\n",
            "11\n",
            "13\n",
            "15\n",
            " \n",
            "your options are:\n",
            " \n",
            "1) Find odd or even number\n",
            "2) find factorial\n",
            "3) find all odd number\n",
            "4) find prime number\n",
            "5) Exit\n",
            " \n",
            "Choose your option: 4\n",
            "enter the number:10\n",
            "2\n",
            "3\n",
            "5\n",
            "7\n",
            " \n",
            "your options are:\n",
            " \n",
            "1) Find odd or even number\n",
            "2) find factorial\n",
            "3) find all odd number\n",
            "4) find prime number\n",
            "5) Exit\n",
            " \n",
            "Choose your option: 5\n"
          ],
          "name": "stdout"
        }
      ]
    }
  ]
}